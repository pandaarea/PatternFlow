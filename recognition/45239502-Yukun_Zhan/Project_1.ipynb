{
 "cells": [
  {
   "cell_type": "code",
   "execution_count": 72,
   "id": "09a0d3e2",
   "metadata": {},
   "outputs": [],
   "source": [
    "import tensorflow as tf\n",
    "from tensorflow import keras\n",
    "import numpy as np\n",
    "import os\n",
    "%matplotlib inline\n",
    "import matplotlib.pyplot as plt\n",
    "import glob\n",
    "import pathlib\n",
    "from sklearn.model_selection import train_test_split"
   ]
  },
  {
   "cell_type": "code",
   "execution_count": 2,
   "id": "e09b321d",
   "metadata": {},
   "outputs": [
    {
     "name": "stdout",
     "output_type": "stream",
     "text": [
      "Downloading data from https://storage.googleapis.com/tensorflow/tf-keras-datasets/mnist.npz\n",
      "11493376/11490434 [==============================] - 0s 0us/step\n"
     ]
    }
   ],
   "source": [
    "mnist = tf.keras.datasets.mnist\n",
    "\n",
    "(x_train, y_train), (x_test, y_test) = mnist.load_data()"
   ]
  },
  {
   "cell_type": "markdown",
   "id": "a2f68a91",
   "metadata": {},
   "source": [
    "# Data preprocessing"
   ]
  },
  {
   "cell_type": "code",
   "execution_count": 4,
   "id": "faca0a81",
   "metadata": {},
   "outputs": [
    {
     "data": {
      "text/plain": [
       "'2.5.0'"
      ]
     },
     "execution_count": 4,
     "metadata": {},
     "output_type": "execute_result"
    }
   ],
   "source": [
    "tf.__version__"
   ]
  },
  {
   "cell_type": "code",
   "execution_count": 84,
   "id": "88fde96d",
   "metadata": {},
   "outputs": [],
   "source": [
    "image_input = sorted(tf.io.gfile.glob('./ISIC2018_Task1-2_Training_Input_x2/*.jpg'))"
   ]
  },
  {
   "cell_type": "code",
   "execution_count": 85,
   "id": "0175a22f",
   "metadata": {},
   "outputs": [
    {
     "data": {
      "text/plain": [
       "2594"
      ]
     },
     "execution_count": 85,
     "metadata": {},
     "output_type": "execute_result"
    }
   ],
   "source": [
    "len(image_input)"
   ]
  },
  {
   "cell_type": "code",
   "execution_count": 86,
   "id": "10060de3",
   "metadata": {},
   "outputs": [],
   "source": [
    "ground_truth = sorted(tf.io.gfile.glob('./ISIC2018_Task1_Training_GroundTruth_x2/*.png'))"
   ]
  },
  {
   "cell_type": "code",
   "execution_count": 87,
   "id": "9832f9b0",
   "metadata": {},
   "outputs": [
    {
     "data": {
      "text/plain": [
       "2594"
      ]
     },
     "execution_count": 87,
     "metadata": {},
     "output_type": "execute_result"
    }
   ],
   "source": [
    "len(ground_truth)"
   ]
  },
  {
   "cell_type": "code",
   "execution_count": 88,
   "id": "3d768cee",
   "metadata": {},
   "outputs": [
    {
     "data": {
      "text/plain": [
       "['.\\\\ISIC2018_Task1-2_Training_Input_x2\\\\ISIC_0000000.jpg',\n",
       " '.\\\\ISIC2018_Task1-2_Training_Input_x2\\\\ISIC_0000001.jpg',\n",
       " '.\\\\ISIC2018_Task1-2_Training_Input_x2\\\\ISIC_0000003.jpg',\n",
       " '.\\\\ISIC2018_Task1-2_Training_Input_x2\\\\ISIC_0000004.jpg',\n",
       " '.\\\\ISIC2018_Task1-2_Training_Input_x2\\\\ISIC_0000006.jpg']"
      ]
     },
     "execution_count": 88,
     "metadata": {},
     "output_type": "execute_result"
    }
   ],
   "source": [
    "image_input[:5]"
   ]
  },
  {
   "cell_type": "code",
   "execution_count": 89,
   "id": "1bf6ecb3",
   "metadata": {},
   "outputs": [
    {
     "data": {
      "text/plain": [
       "['.\\\\ISIC2018_Task1_Training_GroundTruth_x2\\\\ISIC_0000000_segmentation.png',\n",
       " '.\\\\ISIC2018_Task1_Training_GroundTruth_x2\\\\ISIC_0000001_segmentation.png',\n",
       " '.\\\\ISIC2018_Task1_Training_GroundTruth_x2\\\\ISIC_0000003_segmentation.png',\n",
       " '.\\\\ISIC2018_Task1_Training_GroundTruth_x2\\\\ISIC_0000004_segmentation.png',\n",
       " '.\\\\ISIC2018_Task1_Training_GroundTruth_x2\\\\ISIC_0000006_segmentation.png']"
      ]
     },
     "execution_count": 89,
     "metadata": {},
     "output_type": "execute_result"
    }
   ],
   "source": [
    "ground_truth[:5]"
   ]
  },
  {
   "cell_type": "code",
   "execution_count": 90,
   "id": "514c4fce",
   "metadata": {},
   "outputs": [],
   "source": [
    "# Disorder the data and keep the input image and truth ground one-to-one correspondence\n",
    "index = np.random.permutation(len(image_input))\n",
    "image_input = np.array(image_input)[index]\n",
    "ground_truth = np.array(ground_truth)[index]"
   ]
  },
  {
   "cell_type": "code",
   "execution_count": 91,
   "id": "13778320",
   "metadata": {},
   "outputs": [
    {
     "data": {
      "text/plain": [
       "array(['.\\\\ISIC2018_Task1-2_Training_Input_x2\\\\ISIC_0013136.jpg',\n",
       "       '.\\\\ISIC2018_Task1-2_Training_Input_x2\\\\ISIC_0015568.jpg',\n",
       "       '.\\\\ISIC2018_Task1-2_Training_Input_x2\\\\ISIC_0010038.jpg',\n",
       "       '.\\\\ISIC2018_Task1-2_Training_Input_x2\\\\ISIC_0014891.jpg',\n",
       "       '.\\\\ISIC2018_Task1-2_Training_Input_x2\\\\ISIC_0014683.jpg'],\n",
       "      dtype='<U53')"
      ]
     },
     "execution_count": 91,
     "metadata": {},
     "output_type": "execute_result"
    }
   ],
   "source": [
    "image_input[:5]"
   ]
  },
  {
   "cell_type": "code",
   "execution_count": 92,
   "id": "18ccce25",
   "metadata": {},
   "outputs": [
    {
     "data": {
      "text/plain": [
       "array(['.\\\\ISIC2018_Task1_Training_GroundTruth_x2\\\\ISIC_0013136_segmentation.png',\n",
       "       '.\\\\ISIC2018_Task1_Training_GroundTruth_x2\\\\ISIC_0015568_segmentation.png',\n",
       "       '.\\\\ISIC2018_Task1_Training_GroundTruth_x2\\\\ISIC_0010038_segmentation.png',\n",
       "       '.\\\\ISIC2018_Task1_Training_GroundTruth_x2\\\\ISIC_0014891_segmentation.png',\n",
       "       '.\\\\ISIC2018_Task1_Training_GroundTruth_x2\\\\ISIC_0014683_segmentation.png'],\n",
       "      dtype='<U70')"
      ]
     },
     "execution_count": 92,
     "metadata": {},
     "output_type": "execute_result"
    }
   ],
   "source": [
    "ground_truth[:5]"
   ]
  },
  {
   "cell_type": "code",
   "execution_count": 93,
   "id": "20f0b62e",
   "metadata": {},
   "outputs": [
    {
     "name": "stdout",
     "output_type": "stream",
     "text": [
      "2594\n"
     ]
    }
   ],
   "source": [
    "length = len(image_input)\n",
    "print(length)"
   ]
  },
  {
   "cell_type": "code",
   "execution_count": 116,
   "id": "d9efbf7f",
   "metadata": {},
   "outputs": [
    {
     "name": "stdout",
     "output_type": "stream",
     "text": [
      "518\n",
      "518\n"
     ]
    }
   ],
   "source": [
    "image_input_val = image_input[:(int(length*0.2))]\n",
    "print(len(image_input_val))\n",
    "ground_truth_val = ground_truth[:(int(length*0.2))]\n",
    "print(len(ground_truth_val))"
   ]
  },
  {
   "cell_type": "code",
   "execution_count": 105,
   "id": "e9cae138",
   "metadata": {},
   "outputs": [
    {
     "data": {
      "text/plain": [
       "array(['.\\\\ISIC2018_Task1-2_Training_Input_x2\\\\ISIC_0013136.jpg',\n",
       "       '.\\\\ISIC2018_Task1-2_Training_Input_x2\\\\ISIC_0015568.jpg',\n",
       "       '.\\\\ISIC2018_Task1-2_Training_Input_x2\\\\ISIC_0010038.jpg',\n",
       "       '.\\\\ISIC2018_Task1-2_Training_Input_x2\\\\ISIC_0014891.jpg',\n",
       "       '.\\\\ISIC2018_Task1-2_Training_Input_x2\\\\ISIC_0014683.jpg'],\n",
       "      dtype='<U53')"
      ]
     },
     "execution_count": 105,
     "metadata": {},
     "output_type": "execute_result"
    }
   ],
   "source": [
    "image_input_val[:5]"
   ]
  },
  {
   "cell_type": "code",
   "execution_count": 106,
   "id": "daaee98d",
   "metadata": {},
   "outputs": [
    {
     "data": {
      "text/plain": [
       "array(['.\\\\ISIC2018_Task1_Training_GroundTruth_x2\\\\ISIC_0013136_segmentation.png',\n",
       "       '.\\\\ISIC2018_Task1_Training_GroundTruth_x2\\\\ISIC_0015568_segmentation.png',\n",
       "       '.\\\\ISIC2018_Task1_Training_GroundTruth_x2\\\\ISIC_0010038_segmentation.png',\n",
       "       '.\\\\ISIC2018_Task1_Training_GroundTruth_x2\\\\ISIC_0014891_segmentation.png',\n",
       "       '.\\\\ISIC2018_Task1_Training_GroundTruth_x2\\\\ISIC_0014683_segmentation.png'],\n",
       "      dtype='<U70')"
      ]
     },
     "execution_count": 106,
     "metadata": {},
     "output_type": "execute_result"
    }
   ],
   "source": [
    "ground_truth_val[:5]"
   ]
  },
  {
   "cell_type": "code",
   "execution_count": 118,
   "id": "61ca8e30",
   "metadata": {},
   "outputs": [],
   "source": [
    "image_input_test = image_input[int(length*0.2):int(length*0.4)]\n",
    "ground_truth_test = ground_truth[int(length*0.2):int(length*0.4)]"
   ]
  },
  {
   "cell_type": "code",
   "execution_count": 119,
   "id": "6d59901c",
   "metadata": {},
   "outputs": [],
   "source": [
    "image_input_train = image_input[int(length*0.4):]\n",
    "ground_truth_train = ground_truth[int(length*0.4):]"
   ]
  },
  {
   "cell_type": "code",
   "execution_count": 120,
   "id": "b04c5320",
   "metadata": {},
   "outputs": [
    {
     "name": "stdout",
     "output_type": "stream",
     "text": [
      "1557\n",
      "1557\n"
     ]
    }
   ],
   "source": [
    "print(len(image_input_train))\n",
    "print(len(ground_truth_train))"
   ]
  },
  {
   "cell_type": "code",
   "execution_count": 109,
   "id": "1db83e49",
   "metadata": {},
   "outputs": [
    {
     "data": {
      "text/plain": [
       "'.\\\\ISIC2018_Task1_Training_GroundTruth_x2\\\\ISIC_0014868_segmentation.png'"
      ]
     },
     "execution_count": 109,
     "metadata": {},
     "output_type": "execute_result"
    }
   ],
   "source": [
    "ground_truth_val[-1]"
   ]
  },
  {
   "cell_type": "code",
   "execution_count": 110,
   "id": "d0e294c9",
   "metadata": {},
   "outputs": [
    {
     "data": {
      "text/plain": [
       "'.\\\\ISIC2018_Task1_Training_GroundTruth_x2\\\\ISIC_0014962_segmentation.png'"
      ]
     },
     "execution_count": 110,
     "metadata": {},
     "output_type": "execute_result"
    }
   ],
   "source": [
    "ground_truth_train[0]"
   ]
  },
  {
   "cell_type": "code",
   "execution_count": 111,
   "id": "e80ead1f",
   "metadata": {},
   "outputs": [],
   "source": [
    "train_ds = tf.data.Dataset.from_tensor_slices((image_input_train, ground_truth_train))"
   ]
  },
  {
   "cell_type": "code",
   "execution_count": 112,
   "id": "eade4dc4",
   "metadata": {},
   "outputs": [
    {
     "data": {
      "text/plain": [
       "<TensorSliceDataset shapes: ((), ()), types: (tf.string, tf.string)>"
      ]
     },
     "execution_count": 112,
     "metadata": {},
     "output_type": "execute_result"
    }
   ],
   "source": [
    "train_ds"
   ]
  },
  {
   "cell_type": "code",
   "execution_count": 113,
   "id": "b2ba7a7c",
   "metadata": {},
   "outputs": [],
   "source": [
    "val_ds = tf.data.Dataset.from_tensor_slices((image_input_val, ground_truth_val))"
   ]
  },
  {
   "cell_type": "code",
   "execution_count": 121,
   "id": "07100709",
   "metadata": {},
   "outputs": [],
   "source": [
    "test_ds = tf.data.Dataset.from_tensor_slices((image_input_test, ground_truth_test))"
   ]
  },
  {
   "cell_type": "code",
   "execution_count": 114,
   "id": "e02e905c",
   "metadata": {},
   "outputs": [],
   "source": [
    "def read_jpg(path):\n",
    "    image = tf.io.read_file(path)\n",
    "    image = tf.image.decode_jpeg(imag, channel=3)\n",
    "    return image"
   ]
  },
  {
   "cell_type": "code",
   "execution_count": 115,
   "id": "851d01fa",
   "metadata": {},
   "outputs": [],
   "source": [
    "def read_png(path):\n",
    "    image = tf.io.read_file(path)\n",
    "    image = tf.image.decode_png(image, channels=1)\n",
    "    return image"
   ]
  },
  {
   "cell_type": "markdown",
   "id": "6b10e345",
   "metadata": {},
   "source": []
  },
  {
   "cell_type": "code",
   "execution_count": null,
   "id": "522ac284",
   "metadata": {},
   "outputs": [],
   "source": []
  }
 ],
 "metadata": {
  "kernelspec": {
   "display_name": "Python 3",
   "language": "python",
   "name": "python3"
  },
  "language_info": {
   "codemirror_mode": {
    "name": "ipython",
    "version": 3
   },
   "file_extension": ".py",
   "mimetype": "text/x-python",
   "name": "python",
   "nbconvert_exporter": "python",
   "pygments_lexer": "ipython3",
   "version": "3.9.6"
  }
 },
 "nbformat": 4,
 "nbformat_minor": 5
}
